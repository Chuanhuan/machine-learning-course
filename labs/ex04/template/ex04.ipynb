{
 "cells": [
  {
   "cell_type": "code",
   "execution_count": 1,
   "metadata": {
    "collapsed": false
   },
   "outputs": [],
   "source": [
    "# Useful starting lines\n",
    "%matplotlib inline\n",
    "import numpy as np\n",
    "import matplotlib.pyplot as plt\n",
    "%load_ext autoreload\n",
    "%autoreload 2"
   ]
  },
  {
   "cell_type": "markdown",
   "metadata": {},
   "source": [
    "# Cross-Validation and Bias-Variance decomposition\n",
    "## Cross-Validation\n",
    "Implementing 4-fold cross-validation below:"
   ]
  },
  {
   "cell_type": "code",
   "execution_count": 2,
   "metadata": {
    "collapsed": true
   },
   "outputs": [],
   "source": [
    "from helpers import load_data\n",
    "\n",
    "# load dataset\n",
    "x, y = load_data()"
   ]
  },
  {
   "cell_type": "code",
   "execution_count": 3,
   "metadata": {
    "collapsed": false
   },
   "outputs": [],
   "source": [
    "def build_k_indices(y, k_fold, seed):\n",
    "    \"\"\"build k indices for k-fold.\"\"\"\n",
    "    num_row = y.shape[0]\n",
    "    interval = int(num_row / k_fold)\n",
    "    np.random.seed(seed)\n",
    "    indices = np.random.permutation(num_row)\n",
    "    k_indices = [indices[k * interval: (k + 1) * interval]\n",
    "                 for k in range(k_fold)]\n",
    "    return np.array(k_indices)"
   ]
  },
  {
   "cell_type": "code",
   "execution_count": 4,
   "metadata": {
    "collapsed": false
   },
   "outputs": [],
   "source": [
    "from costs import compute_mse\n",
    "from ridge_regression import ridge_regression\n",
    "from build_polynomial import build_poly\n",
    "\n",
    "def cross_validation(y, x, k_indices, k, lambda_, degree):\n",
    "    \"\"\"return the loss of ridge regression.\"\"\"\n",
    "    \n",
    "    # ***************************************************\n",
    "    # get k'th subgroup in test, others in train: \n",
    "    # ***************************************************\n",
    "\n",
    "    other_indices = []\n",
    "    for i in range(0, len(k_indices)):\n",
    "        if i!=k:\n",
    "            for j in range(0, len(k_indices[i])):\n",
    "                other_indices.append(k_indices[i][j])\n",
    "            \n",
    "    x_k =   np.array([ x[i] for i in k_indices[k]])\n",
    "    x_tr =  np.array([ x[i] for i in other_indices])\n",
    "\n",
    "    y_k =   np.array([ yaa[i] for i in k_indices[k]])\n",
    "    y_tr =  np.array([ y[i] for i in other_indices])\n",
    "\n",
    "    # ***************************************************\n",
    "    # form data with polynomial degree:\n",
    "    # ***************************************************\n",
    "    basis_matrix_data_tr = build_poly(x_tr, degree)\n",
    "    basis_matrix_data_k  = build_poly(x_k , degree)\n",
    "\n",
    "    # ***************************************************\n",
    "    # ridge regression:\n",
    "    # ***************************************************    \n",
    "    \n",
    "    w = ridge_regression(y_tr, basis_matrix_data_tr, lambda_, degree)\n",
    "    \n",
    "    # ***************************************************\n",
    "    # calculate the loss for train and test data:\n",
    "    # ***************************************************\n",
    "\n",
    "    N = len(y)\n",
    "    second_term = lambda_*np.linalg.norm(w)**2\n",
    "    loss_tr = 1/(2*N)*np.sum((y_tr-np.dot(basis_matrix_data_tr, w))**2)+second_term\n",
    "    loss_te = 1/(2*N)*np.sum((y_k -np.dot(basis_matrix_data_k , w))**2)+second_term\n",
    "    return loss_tr, loss_te"
   ]
  },
  {
   "cell_type": "code",
   "execution_count": 7,
   "metadata": {
    "collapsed": false
   },
   "outputs": [
    {
     "name": "stdout",
     "output_type": "stream",
     "text": [
      "[  1.00000000e-04   1.61026203e-04   2.59294380e-04   4.17531894e-04\n",
      "   6.72335754e-04   1.08263673e-03   1.74332882e-03   2.80721620e-03\n",
      "   4.52035366e-03   7.27895384e-03   1.17210230e-02   1.88739182e-02\n",
      "   3.03919538e-02   4.89390092e-02   7.88046282e-02   1.26896100e-01\n",
      "   2.04335972e-01   3.29034456e-01   5.29831691e-01   8.53167852e-01\n",
      "   1.37382380e+00   2.21221629e+00   3.56224789e+00   5.73615251e+00\n",
      "   9.23670857e+00   1.48735211e+01   2.39502662e+01   3.85662042e+01\n",
      "   6.21016942e+01   1.00000000e+02]\n",
      "[[27 35 40 38  2  3 48 29 46 31 32 39]\n",
      " [21 36 19 42 49 26 22 13 41 17 45 24]\n",
      " [23  4 33 14 30 10 28 44 34 18 20 25]\n",
      " [ 6  7 47  1 16  0 15  5 11  9  8 12]]\n"
     ]
    },
    {
     "data": {
      "image/png": "[encoded data removed]",
      "text/plain": [
       "<matplotlib.figure.Figure at 0x10d9dc9b0>"
      ]
     },
     "metadata": {},
     "output_type": "display_data"
    }
   ],
   "source": [
    "from plots import cross_validation_visualization\n",
    "\n",
    "def cross_validation_demo():\n",
    "    seed = 1\n",
    "    degree = 7\n",
    "    k_fold = 4\n",
    "    lambdas = np.logspace(-4, 2, 30)\n",
    "    print(lambdas)\n",
    "    # split data in k fold\n",
    "    k_indices = build_k_indices(y, k_fold, seed)\n",
    "    print(k_indices)\n",
    "    \n",
    "    # define lists to store the loss of training data and test data\n",
    "    losses_tr = np.zeros((k_fold, len(lambdas)))\n",
    "    losses_te = np.zeros((k_fold, len(lambdas)))\n",
    "\n",
    "    rmse_tr = np.zeros((k_fold, len(lambdas)))\n",
    "    rmse_te = np.zeros((k_fold, len(lambdas)))\n",
    "\n",
    "    #NB: we are iterating to find out which lamdba performs better\n",
    "    #looking at 4 different training sets\n",
    "    for l,lambda_ in enumerate(lambdas):\n",
    "        for k in range(0,k_fold):\n",
    "            losses_tr[k][l], losses_te[k][l] = cross_validation(y,x,k_indices, k, lambda_, degree)\n",
    "            rmse_tr[k][l] = np.sqrt(losses_tr[k][l])\n",
    "            rmse_te[k][l] = np.sqrt(losses_te[k][l])\n",
    "            #print(\"Lamdba={l}, k={k}, loss_tr={ltr}, loss_te={lte}\".format(\n",
    "            #     l=lambda_, k=k, ltr=losses_tr[k][l], lte=losses_te[k][l]))\n",
    "         \n",
    "    # ***************************************************\n",
    "    # cross validation:\n",
    "    # ***************************************************\n",
    "    mean_rmse_tr = np.zeros((len(lambdas)))\n",
    "    mean_rmse_te = np.zeros((len(lambdas)))\n",
    "    for l in range(0,len(lambdas)):\n",
    "        mean_rmse_tr[l] = np.mean(rmse_tr.T[l])\n",
    "        mean_rmse_te[l] = np.mean(rmse_te.T[l])\n",
    "\n",
    "    cross_validation_visualization(lambdas, mean_rmse_tr, mean_rmse_te)\n",
    "    #TODO when it plots, test error should be HIGHER, but its not!\n",
    "cross_validation_demo()"
   ]
  },
  {
   "cell_type": "markdown",
   "metadata": {},
   "source": [
    "## Bias-Variance Decomposition\n",
    "Visualize bias-variance trade-off by implementing the function `bias_variance_demo()` below:"
   ]
  },
  {
   "cell_type": "code",
   "execution_count": null,
   "metadata": {
    "collapsed": false
   },
   "outputs": [],
   "source": [
    "from least_squares import least_squares\n",
    "from split_data import split_data\n",
    "from plots import bias_variance_decomposition_visualization\n",
    "\n",
    "def bias_variance_demo():\n",
    "    \"\"\"The entry.\"\"\"\n",
    "    # define parameters\n",
    "    seeds = range(100)\n",
    "    num_data = 10000\n",
    "    ratio_train = 0.005\n",
    "    degrees = range(1, 10)\n",
    "    \n",
    "    # define list to store the variable\n",
    "    rmse_tr = np.empty((len(seeds), len(degrees)))\n",
    "    rmse_te = np.empty((len(seeds), len(degrees)))\n",
    "    \n",
    "    for index_seed, seed in enumerate(seeds):\n",
    "        np.random.seed(seed)\n",
    "        x = np.linspace(0.1, 2 * np.pi, num_data)\n",
    "        y = np.sin(x) + 0.3 * np.random.randn(num_data).T\n",
    "        # ***************************************************\n",
    "        # INSERT YOUR CODE HERE\n",
    "        # split data with a specific seed: TODO\n",
    "        # ***************************************************\n",
    "        raise NotImplementedError\n",
    "        # ***************************************************\n",
    "        # INSERT YOUR CODE HERE\n",
    "        # bias_variance_decomposition: TODO\n",
    "        # ***************************************************\n",
    "        raise NotImplementedError\n",
    "\n",
    "    bias_variance_decomposition_visualization(degrees, rmse_tr, rmse_te)\n",
    "\n",
    "bias_variance_demo()"
   ]
  },
  {
   "cell_type": "code",
   "execution_count": null,
   "metadata": {
    "collapsed": true
   },
   "outputs": [],
   "source": []
  }
 ],
 "metadata": {
  "anaconda-cloud": {},
  "kernelspec": {
   "display_name": "Python [Root]",
   "language": "python",
   "name": "Python [Root]"
  },
  "language_info": {
   "codemirror_mode": {
    "name": "ipython",
    "version": 3
   },
   "file_extension": ".py",
   "mimetype": "text/x-python",
   "name": "python",
   "nbconvert_exporter": "python",
   "pygments_lexer": "ipython3",
   "version": "3.5.2"
  }
 },
 "nbformat": 4,
 "nbformat_minor": 0
}
