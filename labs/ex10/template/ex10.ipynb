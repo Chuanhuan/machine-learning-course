{
 "cells": [
  {
   "cell_type": "code",
   "execution_count": 1,
   "metadata": {
    "collapsed": true
   },
   "outputs": [],
   "source": [
    "# Useful starting lines\n",
    "%matplotlib inline\n",
    "\n",
    "import numpy as np\n",
    "import scipy\n",
    "import scipy.io\n",
    "import scipy.sparse as sp\n",
    "import matplotlib.pyplot as plt\n",
    "%load_ext autoreload\n",
    "%autoreload 2"
   ]
  },
  {
   "cell_type": "markdown",
   "metadata": {},
   "source": [
    "## Load the Data\n",
    "Note that `ratings` is a sparse matrix that in the shape of (num_items, num_users)"
   ]
  },
  {
   "cell_type": "code",
   "execution_count": 2,
   "metadata": {
    "collapsed": false
   },
   "outputs": [
    {
     "name": "stdout",
     "output_type": "stream",
     "text": [
      "number of items: 1682, number of users: 943\n"
     ]
    }
   ],
   "source": [
    "from helpers import load_data, preprocess_data\n",
    "\n",
    "path_dataset = \"movielens100k.csv\"\n",
    "ratings = load_data(path_dataset)"
   ]
  },
  {
   "cell_type": "markdown",
   "metadata": {},
   "source": [
    "### Plot the number of ratings per movie and user"
   ]
  },
  {
   "cell_type": "code",
   "execution_count": 3,
   "metadata": {
    "collapsed": false,
    "scrolled": true
   },
   "outputs": [
    {
     "data": {
      "image/png": "[encoded data removed]",
      "text/plain": [
       "<matplotlib.figure.Figure at 0x10b3327f0>"
      ]
     },
     "metadata": {},
     "output_type": "display_data"
    },
    {
     "name": "stdout",
     "output_type": "stream",
     "text": [
      "min # of items per user = 20, min # of users per item = 1.\n"
     ]
    }
   ],
   "source": [
    "from plots import plot_raw_data\n",
    "\n",
    "num_items_per_user, num_users_per_item = plot_raw_data(ratings)\n",
    "\n",
    "print(\"min # of items per user = {}, min # of users per item = {}.\".format(\n",
    "        min(num_items_per_user), min(num_users_per_item)))"
   ]
  },
  {
   "cell_type": "markdown",
   "metadata": {},
   "source": [
    "### Split the data into a train and test set"
   ]
  },
  {
   "cell_type": "code",
   "execution_count": 81,
   "metadata": {
    "collapsed": false
   },
   "outputs": [],
   "source": [
    "def split_data(ratings, num_items_per_user, num_users_per_item,\n",
    "               min_num_ratings, p_test=0.1):\n",
    "    \"\"\"split the ratings to training data and test data.\n",
    "    Args:\n",
    "        min_num_ratings: \n",
    "            all users and items we keep must have at least min_num_ratings per user and per item. \n",
    "    \"\"\"\n",
    "    # set seed\n",
    "    np.random.seed(988)\n",
    "    \n",
    "    # select user and item based on the condition.\n",
    "    valid_items = np.where(num_users_per_item >= min_num_ratings)[0]\n",
    "    valid_users = np.where(num_items_per_user >= min_num_ratings)[0]\n",
    "    valid_ratings = ratings[valid_items, :][: , valid_users]  \n",
    "    \n",
    "    D = len(valid_items)\n",
    "    N = len(valid_users)\n",
    "    train = sp.lil_matrix((D,N))\n",
    "    test = sp.lil_matrix((D,N))\n",
    "    \n",
    "    print(\"Matrix DXN =\",D,\"x\",N)\n",
    "    \n",
    "    for i in range(0,D):\n",
    "        rows,cols = valid_ratings[i,:].nonzero()\n",
    "        for j in cols: #for all non-zero elems of that row\n",
    "            if (np.random.randint(10)==0): #10% if data goes to test\n",
    "                test[i,j]  = valid_ratings[i,j]\n",
    "            else:\n",
    "                train[i,j] = valid_ratings[i,j]\n",
    "            \n",
    "    print(\"valid_ratings shape\", np.shape(valid_ratings))\n",
    "\n",
    "    # ***************************************************\n",
    "    # split the data and return train and test data. TODO\n",
    "    # NOTE: we only consider users and movies that have more\n",
    "    # than 10 ratings\n",
    "    # ***************************************************\n",
    "    print(\"Total number of nonzero elements in origial data:{v}\".format(v=ratings.nnz))\n",
    "    print(\"Total number of nonzero elements in train data:{v}\".format(v=train.nnz))\n",
    "    print(\"Total number of nonzero elements in test data:{v}\".format(v=test.nnz))\n",
    "    return valid_ratings, train, test"
   ]
  },
  {
   "cell_type": "code",
   "execution_count": 82,
   "metadata": {
    "collapsed": false,
    "scrolled": true
   },
   "outputs": [
    {
     "name": "stdout",
     "output_type": "stream",
     "text": [
      "Matrix DXN = 1152 x 943\n",
      "valid_ratings shape (1152, 943)\n",
      "Total number of nonzero elements in origial data:99999\n",
      "Total number of nonzero elements in train data:88141\n",
      "Total number of nonzero elements in test data:9811\n"
     ]
    },
    {
     "data": {
      "image/png": "[encoded data removed]",
      "text/plain": [
       "<matplotlib.figure.Figure at 0x113ee10b8>"
      ]
     },
     "metadata": {},
     "output_type": "display_data"
    }
   ],
   "source": [
    "from plots import plot_train_test_data\n",
    "\n",
    "valid_ratings, train, test = split_data(\n",
    "    ratings, num_items_per_user, num_users_per_item, min_num_ratings=10, p_test=0.1)\n",
    "plot_train_test_data(train, test)"
   ]
  },
  {
   "cell_type": "markdown",
   "metadata": {},
   "source": [
    "## Implementing Baselines "
   ]
  },
  {
   "cell_type": "markdown",
   "metadata": {},
   "source": [
    "### Use the global mean to do the prediction"
   ]
  },
  {
   "cell_type": "code",
   "execution_count": 85,
   "metadata": {
    "collapsed": false,
    "scrolled": true
   },
   "outputs": [
    {
     "data": {
      "text/plain": [
       "3.5459817053250569"
      ]
     },
     "execution_count": 85,
     "metadata": {},
     "output_type": "execute_result"
    }
   ],
   "source": [
    "from helpers import calculate_mse\n",
    "\n",
    "def baseline_global_mean(train, test):\n",
    "    \"\"\"baseline method: use the global mean.\"\"\"\n",
    "    #from the pdf of this exercise lecture\n",
    "    #return 1/(valid_ratings.nnz) * valid_ratings.sum()\n",
    "    return 1/(train.nnz+test.nnz) * (train.sum()+test.sum())\n",
    "\n",
    "baseline_global_mean(train, test)"
   ]
  },
  {
   "cell_type": "markdown",
   "metadata": {},
   "source": [
    "### Use the user means as the prediction"
   ]
  },
  {
   "cell_type": "code",
   "execution_count": 88,
   "metadata": {
    "collapsed": false
   },
   "outputs": [
    {
     "data": {
      "text/plain": [
       "matrix([[ 0.82638889,  0.19618056,  0.13107639,  0.09027778,  0.42621528,\n",
       "          0.66579861,  1.35416667,  0.19444444,  0.08159722,  0.66493056,\n",
       "          0.54427083,  0.19444444,  1.62326389,  0.34461806,  0.25347222,\n",
       "          0.52604167,  0.07378472,  0.91840278,  0.06163194,  0.12934028,\n",
       "          0.39756944,  0.37065972,  0.47395833,  0.25520833,  0.27430556,\n",
       "          0.2734375 ,  0.0703125 ,  0.25520833,  0.10763889,  0.140625  ,\n",
       "          0.12239583,  0.11805556,  0.07725694,  0.06597222,  0.06510417,\n",
       "          0.06163194,  0.17795139,  0.38020833,  0.07204861,  0.08767361,\n",
       "          0.17013889,  0.59027778,  0.71180556,  0.47829861,  0.15017361,\n",
       "          0.09635417,  0.07899306,  0.21354167,  0.48003472,  0.07378472,\n",
       "          0.07118056,  0.20746528,  0.09288194,  0.20833333,  0.05989583,\n",
       "          0.59114583,  0.31944444,  0.50086806,  1.29774306,  0.71961806,\n",
       "          0.05381944,  0.65885417,  0.25      ,  0.61805556,  0.2734375 ,\n",
       "          0.11458333,  0.09809028,  0.08940972,  0.21267361,  0.38888889,\n",
       "          0.125     ,  0.45052083,  0.21354167,  0.12326389,  0.21961806,\n",
       "          0.2421875 ,  0.22569444,  0.06163194,  0.19097222,  0.09461806,\n",
       "          0.16579861,  0.44357639,  0.45746528,  0.22743056,  0.87326389,\n",
       "          0.06597222,  0.67708333,  0.06770833,  0.26649306,  1.06944444,\n",
       "          0.33072917,  1.08333333,  0.05815972,  1.26302083,  0.82291667,\n",
       "          0.20746528,  0.22743056,  0.08420139,  0.41927083,  0.14322917,\n",
       "          0.16840278,  0.49045139,  0.09114583,  0.25607639,  0.06770833,\n",
       "          0.20572917,  0.0546875 ,  0.10243056,  0.69878472,  0.34375   ,\n",
       "          0.07378472,  0.14149306,  0.15711806,  0.14583333,  0.31423611,\n",
       "          0.36024306,  0.29253472,  0.28732639,  0.59809028,  0.08072917,\n",
       "          0.23177083,  0.2109375 ,  0.18055556,  0.07291667,  0.53645833,\n",
       "          0.12934028,  0.08246528,  0.57725694,  0.06770833,  1.19965278,\n",
       "          0.10763889,  0.07204861,  0.07204861,  0.07899306,  0.16145833,\n",
       "          0.13194444,  0.17621528,  0.18923611,  0.07552083,  0.0625    ,\n",
       "          0.31597222,  0.10416667,  0.06770833,  0.65364583,  0.89583333,\n",
       "          0.08333333,  0.07291667,  0.22569444,  0.08767361,  0.10677083,\n",
       "          1.0546875 ,  0.38975694,  0.05902778,  0.17534722,  0.05034722,\n",
       "          0.11979167,  0.16319444,  0.56510417,  0.3125    ,  0.40451389,\n",
       "          0.12847222,  0.13107639,  0.06597222,  0.22569444,  0.10416667,\n",
       "          0.06163194,  0.1796875 ,  0.19965278,  0.12760417,  0.07204861,\n",
       "          0.08420139,  0.07465278,  0.15711806,  0.53819444,  0.12326389,\n",
       "          0.19965278,  0.36111111,  0.86631944,  0.10503472,  0.21527778,\n",
       "          0.46440972,  0.09375   ,  0.14670139,  0.78038194,  0.16840278,\n",
       "          0.26215278,  0.19791667,  0.36458333,  0.63541667,  0.17013889,\n",
       "          0.08246528,  0.10243056,  0.32899306,  0.77864583,  0.26215278,\n",
       "          0.11979167,  0.34114583,  0.51475694,  0.09895833,  0.75607639,\n",
       "          0.98697917,  0.04861111,  0.12760417,  0.12586806,  0.0546875 ,\n",
       "          0.11024306,  0.62152778,  0.10850694,  0.08767361,  0.46527778,\n",
       "          0.09982639,  0.08506944,  0.46267361,  0.43315972,  0.3046875 ,\n",
       "          0.43229167,  0.1953125 ,  0.16579861,  0.08767361,  0.07204861,\n",
       "          0.45399306,  1.0078125 ,  0.27083333,  0.35677083,  0.10243056,\n",
       "          0.16493056,  0.17361111,  0.05729167,  0.07118056,  0.44444444,\n",
       "          0.06684028,  0.31510417,  0.41493056,  1.19618056,  0.31770833,\n",
       "          0.3671875 ,  0.17274306,  0.08246528,  0.57899306,  0.078125  ,\n",
       "          0.06857639,  0.06857639,  0.24652778,  0.74652778,  0.0625    ,\n",
       "          0.49305556,  0.08854167,  0.17361111,  0.57378472,  0.39670139,\n",
       "          0.25347222,  0.08072917,  0.33246528,  0.41493056,  0.18315972,\n",
       "          0.70399306,  0.18836806,  0.07465278,  0.15451389,  0.07552083,\n",
       "          0.09375   ,  0.44010417,  0.42795139,  0.43055556,  0.14236111,\n",
       "          0.06510417,  0.62760417,  0.82552083,  0.82725694,  0.51128472,\n",
       "          0.86284722,  0.19010417,  0.06944444,  0.25      ,  0.25694444,\n",
       "          1.52256944,  0.1640625 ,  0.08506944,  1.11979167,  0.78819444,\n",
       "          0.07204861,  0.06684028,  0.18836806,  0.14496528,  0.109375  ,\n",
       "          0.89670139,  0.22135417,  0.24826389,  0.06857639,  0.43663194,\n",
       "          0.9140625 ,  0.45486111,  1.01128472,  0.44878472,  0.71354167,\n",
       "          0.52864583,  0.56770833,  0.44184028,  0.81684028,  0.06510417,\n",
       "          0.84201389,  0.04427083,  1.39930556,  0.07638889,  0.64322917,\n",
       "          0.09722222,  0.36892361,  1.27517361,  0.05902778,  0.06944444,\n",
       "          0.96180556,  0.83246528,  0.81684028,  0.75      ,  0.30295139,\n",
       "          0.21875   ,  0.06770833,  0.55729167,  0.06597222,  0.49131944,\n",
       "          0.40190972,  0.18489583,  0.27951389,  0.24913194,  0.41145833,\n",
       "          0.53993056,  0.80729167,  0.83159722,  0.19184028,  0.57378472,\n",
       "          0.21354167,  0.65711806,  0.08680556,  0.98177083,  0.06770833,\n",
       "          0.33159722,  0.11631944,  0.26041667,  0.87326389,  0.15885417,\n",
       "          0.06597222,  0.59201389,  0.8203125 ,  0.59895833,  0.72829861,\n",
       "          0.55121528,  0.6171875 ,  0.19618056,  0.11371528,  0.1875    ,\n",
       "          0.15538194,  0.13628472,  0.07291667,  0.74565972,  0.07725694,\n",
       "          0.07118056,  0.27256944,  0.12152778,  0.09201389,  0.35069444,\n",
       "          0.39670139,  0.07291667,  0.81336806,  0.05989583,  0.16840278,\n",
       "          0.12586806,  0.20920139,  0.12673611,  0.07638889,  0.24045139,\n",
       "          0.18142361,  0.23697917,  0.75086806,  0.78125   ,  0.08940972,\n",
       "          0.09722222,  0.11197917,  1.09375   ,  0.67621528,  0.44618056,\n",
       "          0.41232639,  0.15364583,  0.26996528,  0.07899306,  0.74652778,\n",
       "          0.07291667,  0.87326389,  0.18836806,  0.86545139,  0.10329861,\n",
       "          0.39583333,  0.38975694,  1.26215278,  0.49392361,  0.19270833,\n",
       "          0.15711806,  0.32552083,  0.54947917,  0.7890625 ,  0.06857639,\n",
       "          0.41232639,  0.23003472,  0.15972222,  0.12152778,  1.02430556,\n",
       "          1.04600694,  0.68055556,  0.08767361,  0.58940972,  0.07378472,\n",
       "          0.18489583,  0.17447917,  0.15885417,  0.08420139,  0.08246528,\n",
       "          1.59114583,  1.01475694,  0.04600694,  0.1171875 ,  0.12760417,\n",
       "          0.20746528,  0.28559028,  0.19618056,  0.125     ,  0.51128472,\n",
       "          0.32899306,  0.12239583,  0.1875    ,  1.20659722,  0.19618056,\n",
       "          0.06163194,  0.19965278,  0.12413194,  0.14149306,  1.08767361,\n",
       "          0.46006944,  0.80121528,  0.11631944,  0.09201389,  0.17274306,\n",
       "          0.06076389,  0.38802083,  0.0703125 ,  0.07552083,  0.22048611,\n",
       "          0.0859375 ,  0.42881944,  0.10243056,  0.23524306,  1.77517361,\n",
       "          0.22482639,  0.60069444,  0.44357639,  0.60503472,  0.57204861,\n",
       "          0.62760417,  0.96788194,  0.57986111,  0.34635417,  0.19444444,\n",
       "          0.05989583,  0.11458333,  0.31684028,  0.18315972,  0.23697917,\n",
       "          0.29513889,  0.140625  ,  0.49565972,  0.16493056,  0.17708333,\n",
       "          0.09114583,  0.96180556,  0.11892361,  1.1484375 ,  0.0625    ,\n",
       "          0.24131944,  0.13541667,  0.33159722,  0.59809028,  0.19097222,\n",
       "          0.19357639,  0.07725694,  0.15625   ,  0.48177083,  0.06857639,\n",
       "          0.47916667,  0.71961806,  0.4453125 ,  0.33159722,  0.13107639,\n",
       "          0.11024306,  0.16840278,  0.44010417,  0.15798611,  0.72743056,\n",
       "          0.33072917,  0.76215278,  0.41319444,  0.33767361,  0.63194444,\n",
       "          0.23263889,  0.09982639,  0.54947917,  0.75954861,  0.32465278,\n",
       "          0.76649306,  0.23350694,  0.2890625 ,  0.07204861,  0.07204861,\n",
       "          0.07465278,  0.07204861,  0.08333333,  0.64322917,  0.09809028,\n",
       "          0.07465278,  0.1015625 ,  0.22829861,  0.14496528,  0.06857639,\n",
       "          0.40885417,  0.11284722,  0.36979167,  0.91666667,  0.15451389,\n",
       "          0.19097222,  0.44965278,  0.17013889,  0.13454861,  0.15017361,\n",
       "          0.08072917,  0.93836806,  0.75434028,  0.28125   ,  0.73524306,\n",
       "          0.54774306,  1.20225694,  0.25434028,  0.19357639,  0.203125  ,\n",
       "          0.41319444,  0.40885417,  0.58680556,  0.07552083,  0.49305556,\n",
       "          0.19965278,  0.07291667,  0.49131944,  0.08072917,  0.12413194,\n",
       "          1.08072917,  0.22048611,  0.359375  ,  0.35329861,  0.18142361,\n",
       "          0.16059028,  0.17274306,  0.07291667,  0.23177083,  0.29166667,\n",
       "          0.921875  ,  0.22135417,  0.09809028,  0.09895833,  0.12673611,\n",
       "          0.44357639,  0.52517361,  0.23350694,  0.21180556,  0.05121528,\n",
       "          0.05642361,  0.05642361,  0.16579861,  0.13975694,  0.07118056,\n",
       "          0.11024306,  0.61197917,  0.05295139,  0.22309028,  0.14496528,\n",
       "          0.09027778,  0.17621528,  0.10416667,  0.07378472,  0.203125  ,\n",
       "          0.47916667,  0.24479167,  0.72829861,  0.12847222,  0.14236111,\n",
       "          0.26302083,  1.16579861,  0.48524306,  0.07552083,  0.25607639,\n",
       "          0.0625    ,  0.12847222,  0.07986111,  0.15711806,  0.2734375 ,\n",
       "          0.39583333,  0.09548611,  0.15451389,  0.07725694,  0.29340278,\n",
       "          0.80989583,  0.12326389,  0.51215278,  0.05729167,  0.24045139,\n",
       "          0.13715278,  0.07899306,  0.10503472,  0.10590278,  0.34375   ,\n",
       "          0.13541667,  0.23090278,  0.61024306,  0.27083333,  0.359375  ,\n",
       "          0.5234375 ,  0.66232639,  0.14583333,  0.42621528,  0.31597222,\n",
       "          0.06510417,  0.51388889,  0.11024306,  0.42881944,  0.31163194,\n",
       "          0.05208333,  0.375     ,  0.16666667,  0.39409722,  0.09635417,\n",
       "          0.07725694,  0.21354167,  0.20572917,  0.37847222,  0.40017361,\n",
       "          0.14322917,  0.98090278,  0.66840278,  0.13975694,  0.41927083,\n",
       "          0.09461806,  0.19270833,  0.82552083,  0.07899306,  0.84288194,\n",
       "          0.05989583,  0.05989583,  0.65798611,  0.47048611,  1.45052083,\n",
       "          0.05295139,  0.08159722,  0.23003472,  0.62065972,  0.50260417,\n",
       "          0.41145833,  0.06163194,  0.47569444,  0.53993056,  0.42881944,\n",
       "          0.77690972,  0.16145833,  0.140625  ,  0.29340278,  0.15017361,\n",
       "          0.38107639,  0.08159722,  0.11805556,  0.12673611,  0.09809028,\n",
       "          0.234375  ,  0.15277778,  0.08333333,  0.19704861,  0.13194444,\n",
       "          0.05729167,  1.0703125 ,  0.20486111,  0.2578125 ,  0.03559028,\n",
       "          0.28125   ,  0.06336806,  0.09635417,  0.11979167,  0.31423611,\n",
       "          0.1171875 ,  0.11371528,  0.41493056,  0.56076389,  0.10850694,\n",
       "          0.09635417,  0.33854167,  0.31163194,  0.3984375 ,  0.06684028,\n",
       "          0.12065972,  0.06597222,  0.14409722,  0.28993056,  0.359375  ,\n",
       "          0.08333333,  0.67447917,  0.2890625 ,  0.42795139,  0.27604167,\n",
       "          0.73524306,  0.5234375 ,  0.07291667,  0.13454861,  0.49045139,\n",
       "          0.90798611,  0.29600694,  0.125     ,  0.18055556,  0.10329861,\n",
       "          0.50173611,  0.13194444,  0.0625    ,  0.15625   ,  0.08246528,\n",
       "          0.0625    ,  0.84375   ,  0.07725694,  0.05208333,  0.10677083,\n",
       "          0.24305556,  0.06423611,  0.26996528,  0.20052083,  0.15277778,\n",
       "          0.0546875 ,  0.11371528,  0.47222222,  0.10069444,  0.05902778,\n",
       "          0.3125    ,  0.078125  ,  0.11197917,  0.09027778,  0.16145833,\n",
       "          0.21180556,  1.01302083,  0.34895833,  0.95399306,  0.08854167,\n",
       "          0.51388889,  0.19010417,  0.17795139,  0.09982639,  0.10243056,\n",
       "          0.29947917,  0.48524306,  1.19184028,  0.11284722,  0.11111111,\n",
       "          0.16059028,  0.0546875 ,  0.42361111,  0.34895833,  0.08159722,\n",
       "          0.50694444,  0.14236111,  0.18142361,  0.07378472,  0.23871528,\n",
       "          0.22569444,  0.11458333,  0.43663194,  0.39583333,  0.09201389,\n",
       "          0.30642361,  0.12673611,  0.16666667,  0.12586806,  0.18489583,\n",
       "          0.13368056,  0.39583333,  0.10069444,  0.13020833,  0.08680556,\n",
       "          0.39322917,  0.14930556,  0.71875   ,  0.10503472,  0.59375   ,\n",
       "          0.08246528,  0.125     ,  0.16579861,  0.14236111,  0.42708333,\n",
       "          1.10416667,  0.05989583,  0.65538194,  0.07986111,  0.09114583,\n",
       "          0.09114583,  0.22743056,  0.08854167,  1.04340278,  0.78819444,\n",
       "          0.44010417,  0.67621528,  0.08246528,  0.05989583,  0.09982639,\n",
       "          0.07552083,  0.05815972,  0.0703125 ,  0.09027778,  0.59201389,\n",
       "          0.08333333,  0.10503472,  0.06076389,  0.09461806,  0.0546875 ,\n",
       "          0.23350694,  0.06770833,  0.64322917,  0.04513889,  0.45225694,\n",
       "          0.38020833,  0.07899306,  0.26475694,  0.19704861,  0.34461806,\n",
       "          0.22309028,  0.06423611,  0.68576389,  0.18402778,  0.36458333,\n",
       "          0.16753472,  0.12152778,  0.33246528,  0.15451389,  0.6953125 ,\n",
       "          0.10069444,  0.08420139,  0.48003472,  0.24305556,  0.06944444,\n",
       "          1.29774306,  0.38020833,  0.55121528,  0.09722222,  0.20052083,\n",
       "          0.60850694,  0.14756944,  0.10590278,  0.59461806,  0.06684028,\n",
       "          0.07725694,  0.0625    ,  0.05902778,  0.12673611,  0.19704861,\n",
       "          0.14322917,  0.625     ,  0.26128472,  0.97222222,  0.13107639,\n",
       "          0.046875  ,  0.34982639,  0.53125   ,  0.11458333,  0.80121528,\n",
       "          0.32638889,  0.20659722,  0.05034722,  0.11284722,  0.31770833,\n",
       "          0.07638889,  0.265625  ,  0.37760417,  0.09288194,  1.06336806,\n",
       "          0.74479167,  0.47916667,  0.87934028,  0.13802083,  0.29340278,\n",
       "          0.68836806,  0.56510417,  0.07465278,  0.95746528,  0.3984375 ,\n",
       "          0.16840278,  0.78211806,  0.17534722,  0.72569444,  0.06510417,\n",
       "          0.91579861,  0.6328125 ,  0.09114583,  0.41319444,  0.09809028,\n",
       "          0.39756944,  0.14670139,  0.44878472,  0.15277778,  0.11371528,\n",
       "          0.13541667,  0.57986111,  0.22829861,  0.09809028,  0.16493056,\n",
       "          0.32378472,  0.17534722,  0.40364583,  0.05295139,  0.0703125 ,\n",
       "          0.92100694,  0.10763889,  0.29166667,  0.64930556,  0.06944444,\n",
       "          0.30815972,  0.37152778,  0.26649306,  0.26736111,  0.08420139,\n",
       "          0.05729167,  0.38107639,  0.13020833,  0.15711806,  0.15798611,\n",
       "          0.19704861,  0.79079861,  0.421875  ,  0.5546875 ,  0.1328125 ,\n",
       "          0.42621528,  0.1171875 ,  0.30642361,  0.18142361,  0.32118056,\n",
       "          0.07725694,  0.29253472,  0.49479167]])"
      ]
     },
     "execution_count": 88,
     "metadata": {},
     "output_type": "execute_result"
    }
   ],
   "source": [
    "def baseline_user_mean(train, test):\n",
    "    \"\"\"baseline method: use the user means as the prediction.\"\"\"\n",
    "    mse = 0\n",
    "    num_items, num_users = train.shape\n",
    "    return 1/num_items * valid_ratings.sum(axis=0)\n",
    "\n",
    "baseline_user_mean(train, test)"
   ]
  },
  {
   "cell_type": "markdown",
   "metadata": {},
   "source": [
    "### Use the item means as the prediction"
   ]
  },
  {
   "cell_type": "code",
   "execution_count": 141,
   "metadata": {
    "collapsed": false
   },
   "outputs": [
    {
     "data": {
      "text/plain": [
       "matrix([[ 1.85365854],\n",
       "        [ 0.44538706],\n",
       "        [ 0.28950159],\n",
       "        ..., \n",
       "        [ 0.03817603],\n",
       "        [ 0.02969247],\n",
       "        [ 0.03181336]])"
      ]
     },
     "execution_count": 141,
     "metadata": {},
     "output_type": "execute_result"
    }
   ],
   "source": [
    "def baseline_item_mean(train, test):\n",
    "    \"\"\"baseline method: use item means as the prediction.\"\"\"\n",
    "    mse = 0\n",
    "    num_items, num_users = train.shape\n",
    "    return 1/num_users * valid_ratings.sum(axis=1)\n",
    "    \n",
    "baseline_item_mean(train, test)"
   ]
  },
  {
   "cell_type": "markdown",
   "metadata": {},
   "source": [
    "### Learn the Matrix Factorization using SGD"
   ]
  },
  {
   "cell_type": "markdown",
   "metadata": {},
   "source": [
    "#### Initialize matrix factorization"
   ]
  },
  {
   "cell_type": "code",
   "execution_count": 142,
   "metadata": {
    "collapsed": false
   },
   "outputs": [],
   "source": [
    "def init_MF(train, num_features):\n",
    "    \"\"\"init the parameter for matrix factorization.\"\"\"\n",
    "    \n",
    "    # ***************************************************\n",
    "    # you should return:\n",
    "    #     user_features: shape = num_features, num_user\n",
    "    #     item_features: shape = num_features, num_item\n",
    "    # ***************************************************\n",
    "    num_items, num_users = train.shape\n",
    "    user_features = sp.lil_matrix((num_features, num_users))\n",
    "    item_features = sp.lil_matrix((num_features, num_items))\n",
    "    return user_features, item_features"
   ]
  },
  {
   "cell_type": "markdown",
   "metadata": {},
   "source": [
    "Compute the cost by the method of matrix factorization.\n"
   ]
  },
  {
   "cell_type": "code",
   "execution_count": 143,
   "metadata": {
    "collapsed": false
   },
   "outputs": [],
   "source": [
    "def compute_error(data, user_features, item_features, nz):\n",
    "    \"\"\"compute the loss (MSE) of the prediction of nonzero elements.\"\"\"\n",
    "    # ***************************************************\n",
    "    # calculate rmse (we only consider nonzero entries.) - page 4\n",
    "    # ***************************************************\n",
    "    tmp = data - item_features.dot(user_features.transpose())\n",
    "    squared_val = tmp.multiply(tmp)  #POINT-wise multiplication, not product of matrices\n",
    "    return 1/data.nnz * 1/2 * squared_val.sum()"
   ]
  },
  {
   "cell_type": "code",
   "execution_count": 140,
   "metadata": {
    "collapsed": false
   },
   "outputs": [
    {
     "name": "stdout",
     "output_type": "stream",
     "text": [
      "learn the matrix factorization using SGD...\n",
      "--status 0  of 9811\n",
      "--status 1000  of 9811\n",
      "--status 2000  of 9811\n",
      "--status 3000  of 9811\n",
      "--status 4000  of 9811\n",
      "--status 5000  of 9811\n",
      "--status 6000  of 9811\n",
      "--status 7000  of 9811\n",
      "--status 8000  of 9811\n",
      "--status 9000  of 9811\n",
      "iter: 0, RMSE on training set: 6.847416165528488.\n",
      "RMSE on test data: 6.847416165528488.\n"
     ]
    }
   ],
   "source": [
    "#We dont specify K so we return a vector of the updates in all dimensions\n",
    "def stoch_gradient_descent_z(x, d, n, z, w): #page 4\n",
    "    return -(x[d,n] - w[d,:].dot(z[n,:].transpose())[0,0]) * w[n,:]\n",
    "    \n",
    "def stoch_gradient_descent_w(x, d, n, z, w):\n",
    "    return -(x[d,n] - w[d,:].dot(z[n,:].transpose())[0,0]) * z[n,:]\n",
    "    \n",
    "def matrix_factorization_SGD(train, test):\n",
    "    \"\"\"matrix factorization by SGD.\"\"\"\n",
    "    # define parameters\n",
    "    gamma = 0.01\n",
    "    num_features = 20   # K in the lecture notes\n",
    "    lambda_user = 0.1\n",
    "    lambda_item = 0.7\n",
    "    num_epochs = 20     # TODO default:20. number of full passes through the train set\n",
    "    errors = [0]\n",
    "    \n",
    "    # set seed\n",
    "    np.random.seed(988)\n",
    "\n",
    "    # init matrix\n",
    "    user_features, item_features = init_MF(train, num_features)\n",
    "    \n",
    "    # find the non-zero ratings indices \n",
    "    nz_row, nz_col = train.nonzero()\n",
    "    nz_train = list(zip(nz_row, nz_col))\n",
    "    nz_row, nz_col = test.nonzero()\n",
    "    nz_test = list(zip(nz_row, nz_col))\n",
    "\n",
    "    print(\"learn the matrix factorization using SGD...\")\n",
    "    \n",
    "    user_features_T = user_features.transpose()\n",
    "    item_features_T = item_features.transpose()\n",
    "    \n",
    "    counter = 0\n",
    "    \n",
    "    #TODO to run faster, use test instead of train data\n",
    "    #nz_train=nz_test #TODO remove this\n",
    "    #train=test       #TODO remove this\n",
    "    for it in range(num_epochs):\n",
    "        \n",
    "        # shuffle the training rating indices\n",
    "        np.random.shuffle(nz_train)\n",
    "\n",
    "        # decrease step size\n",
    "        gamma /= 1.2\n",
    "        \n",
    "        for d, n in nz_train:\n",
    "            # ***************************************************\n",
    "            # do matrix factorization.\n",
    "            # ***************************************************\n",
    "            grad_z = stoch_gradient_descent_z(train, d, n, user_features_T, item_features_T)\n",
    "            user_features_T[n] -= grad_z*gamma\n",
    "            grad_w = stoch_gradient_descent_w(train, d, n, user_features_T, item_features_T)\n",
    "            item_features_T[d] -= grad_w*gamma\n",
    "            if counter % 1000 == 0:\n",
    "                print(\"--status\", counter, \" of\", len(nz_train))\n",
    "            counter+=1\n",
    "            \n",
    "        rmse = compute_error(train,user_features_T, item_features_T, nz_train)\n",
    "        print(\"iter: {}, RMSE on training set: {}.\".format(it, rmse))\n",
    "        errors.append(rmse)\n",
    "        \n",
    "    # ***************************************************\n",
    "    # evaluate the test error.\n",
    "    # ***************************************************    \n",
    "    rmse = compute_error(test, user_features_T, item_features_T, nz_test)\n",
    "    print(\"RMSE on test data: {}.\".format(rmse))\n",
    "\n",
    "matrix_factorization_SGD(train, test)   "
   ]
  },
  {
   "cell_type": "markdown",
   "metadata": {},
   "source": [
    "### Learn the Matrix Factorization using Alternating Least Squares"
   ]
  },
  {
   "cell_type": "code",
   "execution_count": 197,
   "metadata": {
    "collapsed": false
   },
   "outputs": [],
   "source": [
    "from scipy.sparse import csr_matrix\n",
    "import scipy.sparse.linalg as spsl\n",
    "\n",
    "def update_user_feature(\n",
    "        x, w, lambda_user, k):\n",
    "    \"\"\"update user feature matrix.\"\"\"\n",
    "    \n",
    "    # (w.transpose().dot(w) + lambda_user*sp.eye(k)).inverse().dot(w.transpose().dot(x))\n",
    "    #to inverse we convert sparse matrix to CSR, then invert, then convert back\n",
    "    tmp = w.transpose().dot(w) + lambda_user*sp.eye(k)\n",
    "    inv_tmp = sp.lil_matrix(spsl.inv(sp.csr_matrix(tmp)))\n",
    "    z = inv_tmp.dot(w.transpose()).dot(x)\n",
    "    return z.transpose()\n",
    "\n",
    "def update_item_feature(\n",
    "        x, z, lambda_item, k):\n",
    "    \"\"\"update item feature matrix.\"\"\"\n",
    "\n",
    "    #(z.transpose().dot(z) + lambda_item*sp.eye(k)).inverse().dot(z.transpose().dot(x.transpose()))\n",
    "    tmp = z.transpose().dot(z) + lambda_item*sp.eye(k)\n",
    "    inv_tmp = sp.lil_matrix(spsl.inv(sp.csr_matrix(tmp)))\n",
    "    w = inv_tmp.dot(z.transpose()).dot(x.transpose())\n",
    "    return w.transpose()"
   ]
  },
  {
   "cell_type": "code",
   "execution_count": 199,
   "metadata": {
    "collapsed": false
   },
   "outputs": [
    {
     "name": "stderr",
     "output_type": "stream",
     "text": [
      "/Users/bmagalha/anaconda/lib/python3.5/site-packages/scipy/sparse/linalg/dsolve/linsolve.py:243: SparseEfficiencyWarning: splu requires CSC matrix format\n",
      "  warn('splu requires CSC matrix format', SparseEfficiencyWarning)\n",
      "/Users/bmagalha/anaconda/lib/python3.5/site-packages/scipy/sparse/linalg/dsolve/linsolve.py:161: SparseEfficiencyWarning: spsolve is more efficient when sparse b is in the CSC matrix format\n",
      "  'is in the CSC matrix format', SparseEfficiencyWarning)\n"
     ]
    },
    {
     "name": "stdout",
     "output_type": "stream",
     "text": [
      "iter: 0, RMSE on training set: 4.311636258286043.\n",
      "iter: 1, RMSE on training set: 3.7468596025628402.\n",
      "iter: 2, RMSE on training set: 3.654678967389026.\n",
      "iter: 3, RMSE on training set: 3.6223685542937125.\n",
      "iter: 4, RMSE on training set: 3.6072377432963285.\n",
      "iter: 5, RMSE on training set: 3.5993589355470954.\n",
      "iter: 6, RMSE on training set: 3.594905897820172.\n",
      "iter: 7, RMSE on training set: 3.592164437893379.\n",
      "iter: 8, RMSE on training set: 3.5903318671044984.\n",
      "iter: 9, RMSE on training set: 3.589018533896814.\n",
      "iter: 10, RMSE on training set: 3.5880277050848384.\n",
      "iter: 11, RMSE on training set: 3.5872547746462167.\n",
      "iter: 12, RMSE on training set: 3.586639762574013.\n",
      "iter: 13, RMSE on training set: 3.586144738978412.\n",
      "iter: 14, RMSE on training set: 3.5857432294550167.\n",
      "iter: 15, RMSE on training set: 3.585415345141416.\n",
      "iter: 16, RMSE on training set: 3.585145541208575.\n",
      "iter: 17, RMSE on training set: 3.5849215066817077.\n",
      "iter: 18, RMSE on training set: 3.584733508291204.\n",
      "iter: 19, RMSE on training set: 3.584573912588367.\n",
      "iter: 20, RMSE on training set: 3.5844367900006495.\n",
      "iter: 21, RMSE on training set: 3.584317574307612.\n",
      "iter: 22, RMSE on training set: 3.5842127725080193.\n",
      "iter: 23, RMSE on training set: 3.5841197234462916.\n",
      "iter: 24, RMSE on training set: 3.5840364019598834.\n",
      "iter: 25, RMSE on training set: 3.5839612634353535.\n",
      "iter: 26, RMSE on training set: 3.5838931227182758.\n",
      "iter: 27, RMSE on training set: 3.5838310612674644.\n",
      "iter: 28, RMSE on training set: 3.5837743569453426.\n",
      "iter: 29, RMSE on training set: 3.5837224315927863.\n",
      "iter: 30, RMSE on training set: 3.583674812352744.\n",
      "iter: 31, RMSE on training set: 3.5836311034750783.\n",
      "iter: 32, RMSE on training set: 3.5835909660088117.\n",
      "iter: 33, RMSE on training set: 3.5835541033542864.\n",
      "iter: 34, RMSE on training set: 3.583520251111424.\n",
      "iter: 35, RMSE on training set: 3.5834891700324336.\n",
      "iter: 36, RMSE on training set: 3.58346064118239.\n",
      "iter: 37, RMSE on training set: 3.5834344626414394.\n",
      "iter: 38, RMSE on training set: 3.5834104472610857.\n",
      "iter: 39, RMSE on training set: 3.5833884211230345.\n",
      "iter: 40, RMSE on training set: 3.5833682224521364.\n",
      "iter: 41, RMSE on training set: 3.5833497008114668.\n",
      "iter: 42, RMSE on training set: 3.5833327164637185.\n",
      "iter: 43, RMSE on training set: 3.583317139823611.\n",
      "iter: 44, RMSE on training set: 3.5833028509544955.\n",
      "iter: 45, RMSE on training set: 3.5832897390821317.\n",
      "iter: 46, RMSE on training set: 3.5832777021117392.\n",
      "iter: 47, RMSE on training set: 3.583266646142885.\n",
      "iter: 48, RMSE on training set: 3.583256484982081.\n",
      "iter: 49, RMSE on training set: 3.583247139655668.\n",
      "iter: 50, RMSE on training set: 3.58323853792702.\n",
      "iter: 51, RMSE on training set: 3.5832306138225123.\n",
      "iter: 52, RMSE on training set: 3.5832233071703543.\n",
      "iter: 53, RMSE on training set: 3.5832165631558888.\n",
      "iter: 54, RMSE on training set: 3.5832103318963506.\n",
      "iter: 55, RMSE on training set: 3.5832045680371296.\n",
      "iter: 56, RMSE on training set: 3.5831992303710347.\n",
      "iter: 57, RMSE on training set: 3.583194281481443.\n",
      "iter: 58, RMSE on training set: 3.5831896874094493.\n",
      "iter: 59, RMSE on training set: 3.5831854173449904.\n",
      "iter: 60, RMSE on training set: 3.5831814433413323.\n",
      "iter: 61, RMSE on training set: 3.5831777400520686.\n",
      "iter: 62, RMSE on training set: 3.5831742844897527.\n",
      "iter: 63, RMSE on training set: 3.5831710558048977.\n",
      "iter: 64, RMSE on training set: 3.583168035084164.\n",
      "iter: 65, RMSE on training set: 3.583165205166475.\n"
     ]
    },
    {
     "ename": "KeyboardInterrupt",
     "evalue": "",
     "output_type": "error",
     "traceback": [
      "\u001b[0;31m---------------------------------------------------------------------------\u001b[0m",
      "\u001b[0;31mKeyboardInterrupt\u001b[0m                         Traceback (most recent call last)",
      "\u001b[0;32m<ipython-input-199-f6239e9a5b2c>\u001b[0m in \u001b[0;36m<module>\u001b[0;34m()\u001b[0m\n\u001b[1;32m     42\u001b[0m         \u001b[0mprint\u001b[0m\u001b[0;34m(\u001b[0m\u001b[0;34m\"iter: {}, RMSE on training set: {}.\"\u001b[0m\u001b[0;34m.\u001b[0m\u001b[0mformat\u001b[0m\u001b[0;34m(\u001b[0m\u001b[0mit\u001b[0m\u001b[0;34m,\u001b[0m \u001b[0mrmse\u001b[0m\u001b[0;34m)\u001b[0m\u001b[0;34m)\u001b[0m\u001b[0;34m\u001b[0m\u001b[0m\n\u001b[1;32m     43\u001b[0m \u001b[0;34m\u001b[0m\u001b[0m\n\u001b[0;32m---> 44\u001b[0;31m \u001b[0mALS\u001b[0m\u001b[0;34m(\u001b[0m\u001b[0mtrain\u001b[0m\u001b[0;34m,\u001b[0m \u001b[0mtest\u001b[0m\u001b[0;34m)\u001b[0m\u001b[0;34m\u001b[0m\u001b[0m\n\u001b[0m",
      "\u001b[0;32m<ipython-input-199-f6239e9a5b2c>\u001b[0m in \u001b[0;36mALS\u001b[0;34m(train, test)\u001b[0m\n\u001b[1;32m     37\u001b[0m \u001b[0;34m\u001b[0m\u001b[0m\n\u001b[1;32m     38\u001b[0m     \u001b[0;32mfor\u001b[0m \u001b[0mit\u001b[0m \u001b[0;32min\u001b[0m \u001b[0mrange\u001b[0m\u001b[0;34m(\u001b[0m\u001b[0;36m100\u001b[0m\u001b[0;34m)\u001b[0m\u001b[0;34m:\u001b[0m\u001b[0;34m\u001b[0m\u001b[0m\n\u001b[0;32m---> 39\u001b[0;31m         \u001b[0muser_features_T\u001b[0m \u001b[0;34m=\u001b[0m \u001b[0mupdate_user_feature\u001b[0m \u001b[0;34m(\u001b[0m\u001b[0mtrain\u001b[0m\u001b[0;34m,\u001b[0m \u001b[0mitem_features_T\u001b[0m\u001b[0;34m,\u001b[0m \u001b[0mlambda_user\u001b[0m\u001b[0;34m,\u001b[0m \u001b[0mnum_features\u001b[0m\u001b[0;34m)\u001b[0m\u001b[0;34m\u001b[0m\u001b[0m\n\u001b[0m\u001b[1;32m     40\u001b[0m         \u001b[0mitem_features_T\u001b[0m \u001b[0;34m=\u001b[0m \u001b[0mupdate_item_feature\u001b[0m \u001b[0;34m(\u001b[0m\u001b[0mtrain\u001b[0m\u001b[0;34m,\u001b[0m \u001b[0muser_features_T\u001b[0m\u001b[0;34m,\u001b[0m \u001b[0mlambda_item\u001b[0m\u001b[0;34m,\u001b[0m \u001b[0mnum_features\u001b[0m\u001b[0;34m)\u001b[0m\u001b[0;34m\u001b[0m\u001b[0m\n\u001b[1;32m     41\u001b[0m         \u001b[0mrmse\u001b[0m \u001b[0;34m=\u001b[0m \u001b[0mcompute_error\u001b[0m\u001b[0;34m(\u001b[0m\u001b[0mtrain\u001b[0m\u001b[0;34m,\u001b[0m \u001b[0muser_features_T\u001b[0m\u001b[0;34m,\u001b[0m \u001b[0mitem_features_T\u001b[0m\u001b[0;34m,\u001b[0m \u001b[0mnz_train\u001b[0m\u001b[0;34m)\u001b[0m\u001b[0;34m\u001b[0m\u001b[0m\n",
      "\u001b[0;32m<ipython-input-197-fecfd829b367>\u001b[0m in \u001b[0;36mupdate_user_feature\u001b[0;34m(x, w, lambda_user, k)\u001b[0m\n\u001b[1;32m      9\u001b[0m     \u001b[0;31m#to inverse we convert sparse matrix to CSR, then invert, then convert back\u001b[0m\u001b[0;34m\u001b[0m\u001b[0;34m\u001b[0m\u001b[0m\n\u001b[1;32m     10\u001b[0m     \u001b[0mtmp\u001b[0m \u001b[0;34m=\u001b[0m \u001b[0mw\u001b[0m\u001b[0;34m.\u001b[0m\u001b[0mtranspose\u001b[0m\u001b[0;34m(\u001b[0m\u001b[0;34m)\u001b[0m\u001b[0;34m.\u001b[0m\u001b[0mdot\u001b[0m\u001b[0;34m(\u001b[0m\u001b[0mw\u001b[0m\u001b[0;34m)\u001b[0m \u001b[0;34m+\u001b[0m \u001b[0mlambda_user\u001b[0m\u001b[0;34m*\u001b[0m\u001b[0msp\u001b[0m\u001b[0;34m.\u001b[0m\u001b[0meye\u001b[0m\u001b[0;34m(\u001b[0m\u001b[0mk\u001b[0m\u001b[0;34m)\u001b[0m\u001b[0;34m\u001b[0m\u001b[0m\n\u001b[0;32m---> 11\u001b[0;31m     \u001b[0minv_tmp\u001b[0m \u001b[0;34m=\u001b[0m \u001b[0msp\u001b[0m\u001b[0;34m.\u001b[0m\u001b[0mlil_matrix\u001b[0m\u001b[0;34m(\u001b[0m\u001b[0mspsl\u001b[0m\u001b[0;34m.\u001b[0m\u001b[0minv\u001b[0m\u001b[0;34m(\u001b[0m\u001b[0msp\u001b[0m\u001b[0;34m.\u001b[0m\u001b[0mcsr_matrix\u001b[0m\u001b[0;34m(\u001b[0m\u001b[0mtmp\u001b[0m\u001b[0;34m)\u001b[0m\u001b[0;34m)\u001b[0m\u001b[0;34m)\u001b[0m\u001b[0;34m\u001b[0m\u001b[0m\n\u001b[0m\u001b[1;32m     12\u001b[0m     \u001b[0mz\u001b[0m \u001b[0;34m=\u001b[0m \u001b[0minv_tmp\u001b[0m\u001b[0;34m.\u001b[0m\u001b[0mdot\u001b[0m\u001b[0;34m(\u001b[0m\u001b[0mw\u001b[0m\u001b[0;34m.\u001b[0m\u001b[0mtranspose\u001b[0m\u001b[0;34m(\u001b[0m\u001b[0;34m)\u001b[0m\u001b[0;34m)\u001b[0m\u001b[0;34m.\u001b[0m\u001b[0mdot\u001b[0m\u001b[0;34m(\u001b[0m\u001b[0mx\u001b[0m\u001b[0;34m)\u001b[0m\u001b[0;34m\u001b[0m\u001b[0m\n\u001b[1;32m     13\u001b[0m     \u001b[0;32mreturn\u001b[0m \u001b[0mz\u001b[0m\u001b[0;34m.\u001b[0m\u001b[0mtranspose\u001b[0m\u001b[0;34m(\u001b[0m\u001b[0;34m)\u001b[0m\u001b[0;34m\u001b[0m\u001b[0m\n",
      "\u001b[0;32m/Users/bmagalha/anaconda/lib/python3.5/site-packages/scipy/sparse/linalg/matfuncs.py\u001b[0m in \u001b[0;36minv\u001b[0;34m(A)\u001b[0m\n\u001b[1;32m     56\u001b[0m     \"\"\"\n\u001b[1;32m     57\u001b[0m     \u001b[0mI\u001b[0m \u001b[0;34m=\u001b[0m \u001b[0mspeye\u001b[0m\u001b[0;34m(\u001b[0m\u001b[0mA\u001b[0m\u001b[0;34m.\u001b[0m\u001b[0mshape\u001b[0m\u001b[0;34m[\u001b[0m\u001b[0;36m0\u001b[0m\u001b[0;34m]\u001b[0m\u001b[0;34m,\u001b[0m \u001b[0mA\u001b[0m\u001b[0;34m.\u001b[0m\u001b[0mshape\u001b[0m\u001b[0;34m[\u001b[0m\u001b[0;36m1\u001b[0m\u001b[0;34m]\u001b[0m\u001b[0;34m,\u001b[0m \u001b[0mdtype\u001b[0m\u001b[0;34m=\u001b[0m\u001b[0mA\u001b[0m\u001b[0;34m.\u001b[0m\u001b[0mdtype\u001b[0m\u001b[0;34m,\u001b[0m \u001b[0mformat\u001b[0m\u001b[0;34m=\u001b[0m\u001b[0mA\u001b[0m\u001b[0;34m.\u001b[0m\u001b[0mformat\u001b[0m\u001b[0;34m)\u001b[0m\u001b[0;34m\u001b[0m\u001b[0m\n\u001b[0;32m---> 58\u001b[0;31m     \u001b[0mAinv\u001b[0m \u001b[0;34m=\u001b[0m \u001b[0mspsolve\u001b[0m\u001b[0;34m(\u001b[0m\u001b[0mA\u001b[0m\u001b[0;34m,\u001b[0m \u001b[0mI\u001b[0m\u001b[0;34m)\u001b[0m\u001b[0;34m\u001b[0m\u001b[0m\n\u001b[0m\u001b[1;32m     59\u001b[0m     \u001b[0;32mreturn\u001b[0m \u001b[0mAinv\u001b[0m\u001b[0;34m\u001b[0m\u001b[0m\n\u001b[1;32m     60\u001b[0m \u001b[0;34m\u001b[0m\u001b[0m\n",
      "\u001b[0;32m/Users/bmagalha/anaconda/lib/python3.5/site-packages/scipy/sparse/linalg/dsolve/linsolve.py\u001b[0m in \u001b[0;36mspsolve\u001b[0;34m(A, b, permc_spec, use_umfpack)\u001b[0m\n\u001b[1;32m    168\u001b[0m             \u001b[0mcol_segs\u001b[0m \u001b[0;34m=\u001b[0m \u001b[0;34m[\u001b[0m\u001b[0;34m]\u001b[0m\u001b[0;34m\u001b[0m\u001b[0m\n\u001b[1;32m    169\u001b[0m             \u001b[0;32mfor\u001b[0m \u001b[0mj\u001b[0m \u001b[0;32min\u001b[0m \u001b[0mrange\u001b[0m\u001b[0;34m(\u001b[0m\u001b[0mb\u001b[0m\u001b[0;34m.\u001b[0m\u001b[0mshape\u001b[0m\u001b[0;34m[\u001b[0m\u001b[0;36m1\u001b[0m\u001b[0;34m]\u001b[0m\u001b[0;34m)\u001b[0m\u001b[0;34m:\u001b[0m\u001b[0;34m\u001b[0m\u001b[0m\n\u001b[0;32m--> 170\u001b[0;31m                 \u001b[0mbj\u001b[0m \u001b[0;34m=\u001b[0m \u001b[0mb\u001b[0m\u001b[0;34m[\u001b[0m\u001b[0;34m:\u001b[0m\u001b[0;34m,\u001b[0m \u001b[0mj\u001b[0m\u001b[0;34m]\u001b[0m\u001b[0;34m.\u001b[0m\u001b[0mA\u001b[0m\u001b[0;34m.\u001b[0m\u001b[0mravel\u001b[0m\u001b[0;34m(\u001b[0m\u001b[0;34m)\u001b[0m\u001b[0;34m\u001b[0m\u001b[0m\n\u001b[0m\u001b[1;32m    171\u001b[0m                 \u001b[0mxj\u001b[0m \u001b[0;34m=\u001b[0m \u001b[0mAfactsolve\u001b[0m\u001b[0;34m(\u001b[0m\u001b[0mbj\u001b[0m\u001b[0;34m)\u001b[0m\u001b[0;34m\u001b[0m\u001b[0m\n\u001b[1;32m    172\u001b[0m                 \u001b[0mw\u001b[0m \u001b[0;34m=\u001b[0m \u001b[0mnp\u001b[0m\u001b[0;34m.\u001b[0m\u001b[0mflatnonzero\u001b[0m\u001b[0;34m(\u001b[0m\u001b[0mxj\u001b[0m\u001b[0;34m)\u001b[0m\u001b[0;34m\u001b[0m\u001b[0m\n",
      "\u001b[0;32m/Users/bmagalha/anaconda/lib/python3.5/site-packages/scipy/sparse/csc.py\u001b[0m in \u001b[0;36m__getitem__\u001b[0;34m(self, key)\u001b[0m\n\u001b[1;32m    152\u001b[0m         if (isinstance(row, slice) or isinstance(col, slice) or\n\u001b[1;32m    153\u001b[0m                 isintlike(row) or isintlike(col)):\n\u001b[0;32m--> 154\u001b[0;31m             \u001b[0;32mreturn\u001b[0m \u001b[0mself\u001b[0m\u001b[0;34m.\u001b[0m\u001b[0mT\u001b[0m\u001b[0;34m[\u001b[0m\u001b[0mcol\u001b[0m\u001b[0;34m,\u001b[0m \u001b[0mrow\u001b[0m\u001b[0;34m]\u001b[0m\u001b[0;34m.\u001b[0m\u001b[0mT\u001b[0m\u001b[0;34m\u001b[0m\u001b[0m\n\u001b[0m\u001b[1;32m    155\u001b[0m         \u001b[0;31m# Things that return a sequence of values.\u001b[0m\u001b[0;34m\u001b[0m\u001b[0;34m\u001b[0m\u001b[0m\n\u001b[1;32m    156\u001b[0m         \u001b[0;32melse\u001b[0m\u001b[0;34m:\u001b[0m\u001b[0;34m\u001b[0m\u001b[0m\n",
      "\u001b[0;32m/Users/bmagalha/anaconda/lib/python3.5/site-packages/scipy/sparse/csr.py\u001b[0m in \u001b[0;36m__getitem__\u001b[0;34m(self, key)\u001b[0m\n\u001b[1;32m    271\u001b[0m             \u001b[0;31m# [i, 1:2]\u001b[0m\u001b[0;34m\u001b[0m\u001b[0;34m\u001b[0m\u001b[0m\n\u001b[1;32m    272\u001b[0m             \u001b[0;32melif\u001b[0m \u001b[0misinstance\u001b[0m\u001b[0;34m(\u001b[0m\u001b[0mcol\u001b[0m\u001b[0;34m,\u001b[0m \u001b[0mslice\u001b[0m\u001b[0;34m)\u001b[0m\u001b[0;34m:\u001b[0m\u001b[0;34m\u001b[0m\u001b[0m\n\u001b[0;32m--> 273\u001b[0;31m                 \u001b[0;32mreturn\u001b[0m \u001b[0mself\u001b[0m\u001b[0;34m.\u001b[0m\u001b[0m_get_row_slice\u001b[0m\u001b[0;34m(\u001b[0m\u001b[0mrow\u001b[0m\u001b[0;34m,\u001b[0m \u001b[0mcol\u001b[0m\u001b[0;34m)\u001b[0m\u001b[0;34m\u001b[0m\u001b[0m\n\u001b[0m\u001b[1;32m    274\u001b[0m             \u001b[0;31m# [i, [1, 2]]\u001b[0m\u001b[0;34m\u001b[0m\u001b[0;34m\u001b[0m\u001b[0m\n\u001b[1;32m    275\u001b[0m             \u001b[0;32melif\u001b[0m \u001b[0missequence\u001b[0m\u001b[0;34m(\u001b[0m\u001b[0mcol\u001b[0m\u001b[0;34m)\u001b[0m\u001b[0;34m:\u001b[0m\u001b[0;34m\u001b[0m\u001b[0m\n",
      "\u001b[0;32m/Users/bmagalha/anaconda/lib/python3.5/site-packages/scipy/sparse/csr.py\u001b[0m in \u001b[0;36m_get_row_slice\u001b[0;34m(self, i, cslice)\u001b[0m\n\u001b[1;32m    360\u001b[0m         \u001b[0;32mif\u001b[0m \u001b[0mstride\u001b[0m \u001b[0;34m==\u001b[0m \u001b[0;36m1\u001b[0m\u001b[0;34m:\u001b[0m\u001b[0;34m\u001b[0m\u001b[0m\n\u001b[1;32m    361\u001b[0m             \u001b[0;31m# for stride == 1, _get_submatrix is ~30% faster than below\u001b[0m\u001b[0;34m\u001b[0m\u001b[0;34m\u001b[0m\u001b[0m\n\u001b[0;32m--> 362\u001b[0;31m             \u001b[0mrow_slice\u001b[0m \u001b[0;34m=\u001b[0m \u001b[0mself\u001b[0m\u001b[0;34m.\u001b[0m\u001b[0m_get_submatrix\u001b[0m\u001b[0;34m(\u001b[0m\u001b[0mi\u001b[0m\u001b[0;34m,\u001b[0m \u001b[0mcslice\u001b[0m\u001b[0;34m)\u001b[0m\u001b[0;34m\u001b[0m\u001b[0m\n\u001b[0m\u001b[1;32m    363\u001b[0m \u001b[0;34m\u001b[0m\u001b[0m\n\u001b[1;32m    364\u001b[0m         \u001b[0;32melse\u001b[0m\u001b[0;34m:\u001b[0m\u001b[0;34m\u001b[0m\u001b[0m\n",
      "\u001b[0;32m/Users/bmagalha/anaconda/lib/python3.5/site-packages/scipy/sparse/csr.py\u001b[0m in \u001b[0;36m_get_submatrix\u001b[0;34m(self, row_slice, col_slice)\u001b[0m\n\u001b[1;32m    435\u001b[0m         \u001b[0mshape\u001b[0m \u001b[0;34m=\u001b[0m \u001b[0;34m(\u001b[0m\u001b[0mi1\u001b[0m \u001b[0;34m-\u001b[0m \u001b[0mi0\u001b[0m\u001b[0;34m,\u001b[0m \u001b[0mj1\u001b[0m \u001b[0;34m-\u001b[0m \u001b[0mj0\u001b[0m\u001b[0;34m)\u001b[0m\u001b[0;34m\u001b[0m\u001b[0m\n\u001b[1;32m    436\u001b[0m \u001b[0;34m\u001b[0m\u001b[0m\n\u001b[0;32m--> 437\u001b[0;31m         \u001b[0;32mreturn\u001b[0m \u001b[0mself\u001b[0m\u001b[0;34m.\u001b[0m\u001b[0m__class__\u001b[0m\u001b[0;34m(\u001b[0m\u001b[0;34m(\u001b[0m\u001b[0mdata\u001b[0m\u001b[0;34m,\u001b[0m\u001b[0mindices\u001b[0m\u001b[0;34m,\u001b[0m\u001b[0mindptr\u001b[0m\u001b[0;34m)\u001b[0m\u001b[0;34m,\u001b[0m \u001b[0mshape\u001b[0m\u001b[0;34m=\u001b[0m\u001b[0mshape\u001b[0m\u001b[0;34m)\u001b[0m\u001b[0;34m\u001b[0m\u001b[0m\n\u001b[0m\u001b[1;32m    438\u001b[0m \u001b[0;34m\u001b[0m\u001b[0m\n\u001b[1;32m    439\u001b[0m \u001b[0;32mdef\u001b[0m \u001b[0misspmatrix_csr\u001b[0m\u001b[0;34m(\u001b[0m\u001b[0mx\u001b[0m\u001b[0;34m)\u001b[0m\u001b[0;34m:\u001b[0m\u001b[0;34m\u001b[0m\u001b[0m\n",
      "\u001b[0;32m/Users/bmagalha/anaconda/lib/python3.5/site-packages/scipy/sparse/compressed.py\u001b[0m in \u001b[0;36m__init__\u001b[0;34m(self, arg1, shape, dtype, copy)\u001b[0m\n\u001b[1;32m     86\u001b[0m             \u001b[0mself\u001b[0m\u001b[0;34m.\u001b[0m\u001b[0mdata\u001b[0m \u001b[0;34m=\u001b[0m \u001b[0mnp\u001b[0m\u001b[0;34m.\u001b[0m\u001b[0masarray\u001b[0m\u001b[0;34m(\u001b[0m\u001b[0mself\u001b[0m\u001b[0;34m.\u001b[0m\u001b[0mdata\u001b[0m\u001b[0;34m,\u001b[0m \u001b[0mdtype\u001b[0m\u001b[0;34m=\u001b[0m\u001b[0mdtype\u001b[0m\u001b[0;34m)\u001b[0m\u001b[0;34m\u001b[0m\u001b[0m\n\u001b[1;32m     87\u001b[0m \u001b[0;34m\u001b[0m\u001b[0m\n\u001b[0;32m---> 88\u001b[0;31m         \u001b[0mself\u001b[0m\u001b[0;34m.\u001b[0m\u001b[0mcheck_format\u001b[0m\u001b[0;34m(\u001b[0m\u001b[0mfull_check\u001b[0m\u001b[0;34m=\u001b[0m\u001b[0;32mFalse\u001b[0m\u001b[0;34m)\u001b[0m\u001b[0;34m\u001b[0m\u001b[0m\n\u001b[0m\u001b[1;32m     89\u001b[0m \u001b[0;34m\u001b[0m\u001b[0m\n\u001b[1;32m     90\u001b[0m     \u001b[0;32mdef\u001b[0m \u001b[0mgetnnz\u001b[0m\u001b[0;34m(\u001b[0m\u001b[0mself\u001b[0m\u001b[0;34m,\u001b[0m \u001b[0maxis\u001b[0m\u001b[0;34m=\u001b[0m\u001b[0;32mNone\u001b[0m\u001b[0;34m)\u001b[0m\u001b[0;34m:\u001b[0m\u001b[0;34m\u001b[0m\u001b[0m\n",
      "\u001b[0;32m/Users/bmagalha/anaconda/lib/python3.5/site-packages/scipy/sparse/compressed.py\u001b[0m in \u001b[0;36mcheck_format\u001b[0;34m(self, full_check)\u001b[0m\n\u001b[1;32m    168\u001b[0m                                 \"the size of index and data arrays\")\n\u001b[1;32m    169\u001b[0m \u001b[0;34m\u001b[0m\u001b[0m\n\u001b[0;32m--> 170\u001b[0;31m         \u001b[0mself\u001b[0m\u001b[0;34m.\u001b[0m\u001b[0mprune\u001b[0m\u001b[0;34m(\u001b[0m\u001b[0;34m)\u001b[0m\u001b[0;34m\u001b[0m\u001b[0m\n\u001b[0m\u001b[1;32m    171\u001b[0m \u001b[0;34m\u001b[0m\u001b[0m\n\u001b[1;32m    172\u001b[0m         \u001b[0;32mif\u001b[0m \u001b[0mfull_check\u001b[0m\u001b[0;34m:\u001b[0m\u001b[0;34m\u001b[0m\u001b[0m\n",
      "\u001b[0;32m/Users/bmagalha/anaconda/lib/python3.5/site-packages/scipy/sparse/compressed.py\u001b[0m in \u001b[0;36mprune\u001b[0;34m(self)\u001b[0m\n\u001b[1;32m   1054\u001b[0m             \u001b[0;32mraise\u001b[0m \u001b[0mValueError\u001b[0m\u001b[0;34m(\u001b[0m\u001b[0;34m'data array has fewer than nnz elements'\u001b[0m\u001b[0;34m)\u001b[0m\u001b[0;34m\u001b[0m\u001b[0m\n\u001b[1;32m   1055\u001b[0m \u001b[0;34m\u001b[0m\u001b[0m\n\u001b[0;32m-> 1056\u001b[0;31m         \u001b[0mself\u001b[0m\u001b[0;34m.\u001b[0m\u001b[0mdata\u001b[0m \u001b[0;34m=\u001b[0m \u001b[0mself\u001b[0m\u001b[0;34m.\u001b[0m\u001b[0mdata\u001b[0m\u001b[0;34m[\u001b[0m\u001b[0;34m:\u001b[0m\u001b[0mself\u001b[0m\u001b[0;34m.\u001b[0m\u001b[0mnnz\u001b[0m\u001b[0;34m]\u001b[0m\u001b[0;34m\u001b[0m\u001b[0m\n\u001b[0m\u001b[1;32m   1057\u001b[0m         \u001b[0mself\u001b[0m\u001b[0;34m.\u001b[0m\u001b[0mindices\u001b[0m \u001b[0;34m=\u001b[0m \u001b[0mself\u001b[0m\u001b[0;34m.\u001b[0m\u001b[0mindices\u001b[0m\u001b[0;34m[\u001b[0m\u001b[0;34m:\u001b[0m\u001b[0mself\u001b[0m\u001b[0;34m.\u001b[0m\u001b[0mnnz\u001b[0m\u001b[0;34m]\u001b[0m\u001b[0;34m\u001b[0m\u001b[0m\n\u001b[1;32m   1058\u001b[0m \u001b[0;34m\u001b[0m\u001b[0m\n",
      "\u001b[0;32m/Users/bmagalha/anaconda/lib/python3.5/site-packages/scipy/sparse/compressed.py\u001b[0m in \u001b[0;36mgetnnz\u001b[0;34m(self, axis)\u001b[0m\n\u001b[1;32m     88\u001b[0m         \u001b[0mself\u001b[0m\u001b[0;34m.\u001b[0m\u001b[0mcheck_format\u001b[0m\u001b[0;34m(\u001b[0m\u001b[0mfull_check\u001b[0m\u001b[0;34m=\u001b[0m\u001b[0;32mFalse\u001b[0m\u001b[0;34m)\u001b[0m\u001b[0;34m\u001b[0m\u001b[0m\n\u001b[1;32m     89\u001b[0m \u001b[0;34m\u001b[0m\u001b[0m\n\u001b[0;32m---> 90\u001b[0;31m     \u001b[0;32mdef\u001b[0m \u001b[0mgetnnz\u001b[0m\u001b[0;34m(\u001b[0m\u001b[0mself\u001b[0m\u001b[0;34m,\u001b[0m \u001b[0maxis\u001b[0m\u001b[0;34m=\u001b[0m\u001b[0;32mNone\u001b[0m\u001b[0;34m)\u001b[0m\u001b[0;34m:\u001b[0m\u001b[0;34m\u001b[0m\u001b[0m\n\u001b[0m\u001b[1;32m     91\u001b[0m         \"\"\"Get the count of explicitly-stored values (nonzeros)\n\u001b[1;32m     92\u001b[0m \u001b[0;34m\u001b[0m\u001b[0m\n",
      "\u001b[0;31mKeyboardInterrupt\u001b[0m: "
     ]
    }
   ],
   "source": [
    "from helpers import build_index_groups\n",
    "\n",
    "def ALS(train, test):\n",
    "    \"\"\"Alternating Least Squares (ALS) algorithm.\"\"\"\n",
    "    # define parameters\n",
    "    num_features = 20   # K in the lecture notes\n",
    "    lambda_user = 0.1\n",
    "    lambda_item = 0.7\n",
    "    stop_criterion = 1e-4\n",
    "    change = 1\n",
    "    error_list = [0, 0]\n",
    "    \n",
    "    # set seed\n",
    "    np.random.seed(988)\n",
    "\n",
    "    # init ALS (first row is the )\n",
    "    user_features, item_features = init_MF(train, num_features)\n",
    "    nz_row, nz_col = train.nonzero()\n",
    "    nz_train = list(zip(nz_row, nz_col))\n",
    "    nz_row, nz_col = test.nonzero()\n",
    "    nz_test = list(zip(nz_row, nz_col))\n",
    "    \n",
    "    user_features[0,:] = train.mean(axis=0)  #should be axis=1 but matrix is transposed\n",
    "    for i in range(1,num_features):\n",
    "        user_features[i,:] = np.random.rand(np.size(user_features,1))\n",
    "\n",
    "    item_features[0,:] = train.mean(axis=1).transpose()\n",
    "    for i in range(1,num_features):\n",
    "        item_features[i,:] = np.random.rand(np.size(item_features,1))\n",
    "\n",
    "    user_features_T = user_features.transpose()\n",
    "    item_features_T = item_features.transpose()\n",
    "\n",
    "    # ***************************************************\n",
    "    # start you ALS-WR algorithm.\n",
    "    # ***************************************************\n",
    "\n",
    "    for it in range(100):\n",
    "        user_features_T = update_user_feature (train, item_features_T, lambda_user, num_features)\n",
    "        item_features_T = update_item_feature (train, user_features_T, lambda_item, num_features)\n",
    "        rmse = compute_error(train, user_features_T, item_features_T, nz_train)\n",
    "        print(\"iter: {}, RMSE on training set: {}.\".format(it, rmse))\n",
    "\n",
    "ALS(train, test)"
   ]
  },
  {
   "cell_type": "code",
   "execution_count": null,
   "metadata": {
    "collapsed": true
   },
   "outputs": [],
   "source": []
  },
  {
   "cell_type": "code",
   "execution_count": null,
   "metadata": {
    "collapsed": true
   },
   "outputs": [],
   "source": []
  }
 ],
 "metadata": {
  "anaconda-cloud": {},
  "kernelspec": {
   "display_name": "Python [Root]",
   "language": "python",
   "name": "Python [Root]"
  },
  "language_info": {
   "codemirror_mode": {
    "name": "ipython",
    "version": 3
   },
   "file_extension": ".py",
   "mimetype": "text/x-python",
   "name": "python",
   "nbconvert_exporter": "python",
   "pygments_lexer": "ipython3",
   "version": "3.5.2"
  }
 },
 "nbformat": 4,
 "nbformat_minor": 0
}
