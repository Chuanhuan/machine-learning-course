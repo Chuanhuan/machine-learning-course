{
 "cells": [
  {
   "cell_type": "markdown",
   "metadata": {},
   "source": [
    "# Project1\n",
    "## Principal Component Analysys\n",
    "Inspired by http://sebastianraschka.com/Articles/2014_pca_step_by_step.html"
   ]
  },
  {
   "cell_type": "markdown",
   "metadata": {},
   "source": [
    "## Useful starting lines"
   ]
  },
  {
   "cell_type": "code",
   "execution_count": 1,
   "metadata": {
    "collapsed": false
   },
   "outputs": [],
   "source": [
    "%matplotlib inline\n",
    "import numpy as np\n",
    "import matplotlib.pyplot as plt\n",
    "import datetime\n",
    "%load_ext autoreload\n",
    "%autoreload 2"
   ]
  },
  {
   "cell_type": "markdown",
   "metadata": {},
   "source": [
    "## importing data"
   ]
  },
  {
   "cell_type": "code",
   "execution_count": 2,
   "metadata": {
    "collapsed": false
   },
   "outputs": [],
   "source": [
    "import helpers\n",
    "ids, data, preds = helpers.load_data('data/train.csv')"
   ]
  },
  {
   "cell_type": "code",
   "execution_count": 3,
   "metadata": {
    "collapsed": false
   },
   "outputs": [
    {
     "name": "stdout",
     "output_type": "stream",
     "text": [
      "250000 x 30\n"
     ]
    }
   ],
   "source": [
    "N = len(data)\n",
    "D = len(data[0])\n",
    "print(N, \"x\", D)"
   ]
  },
  {
   "cell_type": "code",
   "execution_count": 4,
   "metadata": {
    "collapsed": false
   },
   "outputs": [],
   "source": [
    "#to separate the elements from class 'b' and 's'\n",
    "#class1_idx = np.where(preds == -1)[0]\n",
    "#class2_idx = np.where(preds == 1)[0]\n",
    "#class1_data = [ data[i] for i in class1_idx ]\n",
    "#class2_data = [ data[i] for i in class2_idx ]\n",
    "#print(len(class1_data)+len(class2_data), \"total elements in both classes\")"
   ]
  },
  {
   "cell_type": "markdown",
   "metadata": {},
   "source": [
    "### About\n",
    "The main purposes of a principal component analysis are the analysis of data to identify patterns and finding patterns to reduce the dimensions of the dataset with minimal loss of information. In Principal Component Analysis (PCA), we are interested to find the directions (components) that maximize the variance in our dataset."
   ]
  },
  {
   "cell_type": "code",
   "execution_count": 5,
   "metadata": {
    "collapsed": false
   },
   "outputs": [
    {
     "name": "stdout",
     "output_type": "stream",
     "text": [
      "30 elements in mean-dimensional vector:\n",
      "[ -4.90230794e+01   4.92398193e+01   8.11819816e+01   5.78959617e+01\n",
      "  -7.08420675e+02  -6.01237051e+02  -7.09356603e+02   2.37309984e+00\n",
      "   1.89173324e+01   1.58432217e+02   1.43760943e+00  -1.28304708e-01\n",
      "  -7.08985189e+02   3.87074191e+01  -1.09730480e-02  -8.17107200e-03\n",
      "   4.66602072e+01  -1.95074680e-02   4.35429640e-02   4.17172345e+01\n",
      "  -1.01191920e-02   2.09797178e+02   9.79176000e-01  -3.48329567e+02\n",
      "  -3.99254314e+02  -3.99259788e+02  -6.92381204e+02  -7.09121609e+02\n",
      "  -7.09118631e+02   7.30645914e+01]\n"
     ]
    }
   ],
   "source": [
    "#Computing the d-dimensional mean vector\n",
    "mean_vec = np.mean(data, axis=0)\n",
    "print(len(mean_vec), \"elements in mean-dimensional vector:\")\n",
    "print(mean_vec)"
   ]
  },
  {
   "cell_type": "code",
   "execution_count": 9,
   "metadata": {
    "collapsed": false
   },
   "outputs": [
    {
     "name": "stdout",
     "output_type": "stream",
     "text": [
      "(30, 30) size of covariance matrix\n",
      "[  1.65116785e+05  -6.54566262e+03   2.79630557e+03   5.14128904e+03\n",
      "   3.00395893e+04   4.29183451e+04   2.99173093e+04   7.25675194e+01\n",
      "   4.14757957e+02   9.47218694e+03  -5.86029763e+00   1.74099789e+02\n",
      "   2.99741923e+04   1.19753608e+03   1.27235771e+00  -4.55994705e+00\n",
      "   8.91618964e+02   5.17104504e+00  -5.49568411e-01  -3.12409307e+03\n",
      "   5.45719545e+00   1.14105629e+04   8.78060935e+01   5.41760912e+04\n",
      "   4.91301780e+04   4.91287082e+04   3.17522489e+04   2.99584599e+04\n",
      "   2.99578952e+04   7.38303175e+03]\n",
      "[  1.65116785e+05  -6.54566262e+03   2.79630557e+03   5.14128904e+03\n",
      "   3.00395893e+04   4.29183451e+04   2.99173093e+04   7.25675194e+01\n",
      "   4.14757957e+02   9.47218694e+03  -5.86029763e+00   1.74099789e+02\n",
      "   2.99741923e+04   1.19753608e+03   1.27235771e+00  -4.55994705e+00\n",
      "   8.91618964e+02   5.17104504e+00  -5.49568411e-01  -3.12409307e+03\n",
      "   5.45719545e+00   1.14105629e+04   8.78060935e+01   5.41760912e+04\n",
      "   4.91301780e+04   4.91287082e+04   3.17522489e+04   2.99584599e+04\n",
      "   2.99578952e+04   7.38303175e+03]\n"
     ]
    }
   ],
   "source": [
    "#computing covariance matrix\n",
    "cov_mat = np.cov(data, rowvar=False)\n",
    "print(np.shape(cov_mat), \"size of covariance matrix\")\n",
    "print(cov_mat[0,:])\n",
    "print(cov_mat[:,0])"
   ]
  },
  {
   "cell_type": "code",
   "execution_count": 7,
   "metadata": {
    "collapsed": false
   },
   "outputs": [
    {
     "name": "stdout",
     "output_type": "stream",
     "text": [
      "30 eigen values:\n",
      "[  1.98361790e+06   4.70787394e+05   1.52814225e+05   3.51276806e+04\n",
      "   1.81844503e+04   2.23538472e+03   1.83311263e+03   1.26660194e+03\n",
      "   9.44046982e+02   5.19385510e+02   3.74827197e+02   3.84395271e+02\n",
      "   1.78779816e+02   1.38811517e+02   4.57897240e+01   3.98920386e+00\n",
      "   3.49795311e+00   2.74456931e+00   2.45149215e+00   1.65338307e+00\n",
      "   1.40891360e+00   9.95640451e-01   7.46670055e-01   6.78989019e-01\n",
      "   6.15736691e-01   1.86642451e-01   1.14883591e-01   5.79135567e-02\n",
      "   2.45941236e-02   7.48658189e-08]\n",
      "30 eigen vectors\n"
     ]
    }
   ],
   "source": [
    "#Computing eigenvectors and corresponding eigenvalues\n",
    "eig_val, eig_vec = np.linalg.eig(cov_mat)\n",
    "print(len(eig_val) , \"eigen values:\")\n",
    "print(eig_val)\n",
    "print(len(eig_vec), \"eigen vectors\")"
   ]
  },
  {
   "cell_type": "code",
   "execution_count": 8,
   "metadata": {
    "collapsed": false
   },
   "outputs": [
    {
     "name": "stdout",
     "output_type": "stream",
     "text": [
      "List of most signigicant dimensions, and their eigenvalues:\n",
      "0 1983617.89941\n",
      "1 470787.393677\n",
      "2 152814.225202\n",
      "3 35127.6806003\n",
      "4 18184.4502853\n",
      "5 2235.38471909\n",
      "6 1833.112629\n",
      "7 1266.60193618\n",
      "8 944.046981534\n",
      "9 519.385509782\n",
      "11 384.395271243\n",
      "10 374.82719694\n",
      "12 178.779815548\n",
      "13 138.811517485\n",
      "14 45.7897240007\n",
      "15 3.98920386443\n",
      "16 3.49795310907\n",
      "17 2.74456931231\n",
      "18 2.45149215328\n",
      "19 1.65338307281\n",
      "20 1.40891360352\n",
      "21 0.995640450749\n",
      "22 0.74667005477\n",
      "23 0.678989018863\n",
      "24 0.615736691447\n",
      "25 0.186642451124\n",
      "26 0.114883590552\n",
      "27 0.0579135566735\n",
      "28 0.0245941235831\n",
      "29 7.48658189317e-08\n"
     ]
    }
   ],
   "source": [
    "#Sorting the eigenvectors by decreasing eigenvalues\n",
    "for ev in eig_vec:\n",
    "    np.testing.assert_array_almost_equal(1.0, np.linalg.norm(ev))\n",
    "    \n",
    "# Make a list of (eigenvalue, eigenvector) tuples\n",
    "eig_pairs = [(i, np.abs(eig_val[i]), eig_vec[:,i]) for i in range(len(eig_val))]\n",
    "\n",
    "# Sort the (eigenvalue, eigenvector) tuples from high to low\n",
    "eig_pairs.sort(key=lambda x: x[1], reverse=True)\n",
    "\n",
    "# Visually confirm that the list is correctly sorted by decreasing eigenvalues\n",
    "print(\"List of most signigicant dimensions, and their eigenvalues:\")\n",
    "for eig in eig_pairs:\n",
    "    print(eig[0], eig[1])"
   ]
  },
  {
   "cell_type": "code",
   "execution_count": 18,
   "metadata": {
    "collapsed": false
   },
   "outputs": [
    {
     "name": "stdout",
     "output_type": "stream",
     "text": [
      "(15, 30) shape of filered matrix\n"
     ]
    }
   ],
   "source": [
    "   eig_vec_filtered = []\n",
    "    for k in range(K):\n",
    "        eig_vec_filtered.append(eig_vec[k])\n",
    "    matrix_w = np.column_stack(eig_vec_filtered)\n",
    "\n",
    "    filtered_dims_ids = []\n",
    "    for k in range(K,D):\n",
    "        filtered_dims_ids.append(eig_pairs[k][0])\n",
    "\n",
    "    print(np.shape(matrix_w), \"shape of filtered eigen vectors matrix\")\n",
    "\n",
    "    data_transformed = matrix_w.T.dot(data.T)\n",
    "    print(\"removed dimensions: \", filtered_dims_ids)\n",
    "    print(np.shape(data_transformed.T), \"shape of transformed final data with K most-meaningful dimensions\")"
   ]
  },
  {
   "cell_type": "code",
   "execution_count": null,
   "metadata": {
    "collapsed": true
   },
   "outputs": [],
   "source": []
  }
 ],
 "metadata": {
  "anaconda-cloud": {},
  "kernelspec": {
   "display_name": "Python [Root]",
   "language": "python",
   "name": "Python [Root]"
  },
  "language_info": {
   "codemirror_mode": {
    "name": "ipython",
    "version": 3
   },
   "file_extension": ".py",
   "mimetype": "text/x-python",
   "name": "python",
   "nbconvert_exporter": "python",
   "pygments_lexer": "ipython3",
   "version": "3.5.2"
  }
 },
 "nbformat": 4,
 "nbformat_minor": 1
}
